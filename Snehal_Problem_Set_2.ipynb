{
 "cells": [
  {
   "cell_type": "markdown",
   "metadata": {},
   "source": [
    "## Problem Set 2"
   ]
  },
  {
   "cell_type": "markdown",
   "metadata": {},
   "source": [
    "### Question 1"
   ]
  },
  {
   "cell_type": "markdown",
   "metadata": {},
   "source": [
    "Consider the following Python module:\n",
    "a = 0\n",
    "def b():\n",
    "global a\n",
    "a = c(a)\n",
    "def c(a):\n",
    "return a + 2\n",
    "After importing the module into the interpreter, you execute:\n",
    "\n",
    "}} b() \n",
    "\n",
    "}} b()\n",
    "\n",
    "}} b()\n",
    "\n",
    "}} a\n",
    "\n",
    "\n",
    "What value is displayed when the last expression (a) is evaluated? Explain your\n",
    "answer by indicating what happens in every executed statement."
   ]
  },
  {
   "cell_type": "markdown",
   "metadata": {},
   "source": [
    "### Solution:"
   ]
  },
  {
   "cell_type": "code",
   "execution_count": 1,
   "metadata": {},
   "outputs": [
    {
     "data": {
      "text/plain": [
       "6"
      ]
     },
     "execution_count": 1,
     "metadata": {},
     "output_type": "execute_result"
    }
   ],
   "source": [
    "a = 0\n",
    "\n",
    "def b():\n",
    "    global a\n",
    "    a = c(a)\n",
    "\n",
    "def c(a):\n",
    "    return a + 2\n",
    "b()\n",
    "b()\n",
    "b()\n",
    "a"
   ]
  },
  {
   "cell_type": "markdown",
   "metadata": {},
   "source": [
    "The output is 6 at first value of a=0. When we execute b() it will go to c(a) and return the value as 2(0+2=2). \n",
    "Now the value of a=2. We then execute b() again then it will again go through c(a) and return 4(2+2=4).\n",
    "Now the value of a=4. The last time when we run b() it will again go through c(a) and return 6(4+2=6).\n",
    "Now the value of a is 6. The last execution is a , and the output is 6."
   ]
  },
  {
   "cell_type": "markdown",
   "metadata": {},
   "source": [
    "### Question 2"
   ]
  },
  {
   "cell_type": "markdown",
   "metadata": {},
   "source": [
    "Function fileLength(), given to you, takes the name of a file as input and returns\n",
    "the length of the file:\n",
    "\n",
    "}} fileLength('midterm.py')\n",
    "\n",
    "284\n",
    "\n",
    "}} fileLength('idterm.py')\n",
    "\n",
    "Traceback (most recent call last):\n",
    "File \"<pyshell#34>\", line 1, in <module>\n",
    "fileLength('idterm.py')\n",
    "File \"/Users/me/midterm.py\", line 3, in fileLength\n",
    "infile = open(filename)\n",
    "FileNotFoundError: [Errno 2] No such file or directory:\n",
    "'idterm.py'\n",
    "As shown above, if the file cannot be found by the interpreter or if it cannot be read\n",
    "as a text file, an exception will be raised. Modify function fileLength() so that a\n",
    "friendly message is printed instead:\n",
    "    \n",
    "}} fileLength('midterm.py')\n",
    "    \n",
    "358\n",
    "    \n",
    "}} fileLength('idterm.py')\n",
    "    \n",
    "File idterm.py not found."
   ]
  },
  {
   "cell_type": "markdown",
   "metadata": {},
   "source": [
    "### Solution:"
   ]
  },
  {
   "cell_type": "code",
   "execution_count": 11,
   "metadata": {},
   "outputs": [
    {
     "name": "stdout",
     "output_type": "stream",
     "text": [
      "31\n",
      "File idterm.py not found.\n"
     ]
    }
   ],
   "source": [
    "def fileLength(filename):\n",
    "    try:\n",
    "        file = open(filename)\n",
    "        contents = file.read()\n",
    "        file.close()\n",
    "        print(len(contents))\n",
    "    except FileNotFoundError:\n",
    "        print(f\"File {filename} not found.\")\n",
    "fileLength('midterm.py')  # Prints length of the file 'midterm.py'\n",
    "fileLength('idterm.py')    # Prints \"File idterm.py not found.\""
   ]
  },
  {
   "cell_type": "markdown",
   "metadata": {},
   "source": [
    "### Question 3"
   ]
  },
  {
   "cell_type": "markdown",
   "metadata": {},
   "source": [
    "Write a class named Marsupial that can be used as shown below:\n",
    "\n",
    " }} m = Marsupial()\n",
    " \n",
    " }} m.put_in_pouch('doll')\n",
    " \n",
    " }} m.put_in_pouch('firetruck')\n",
    " \n",
    " }} m.put_in_pouch('kitten')\n",
    " \n",
    " }} m.pouch_contents()\n",
    " \n",
    "['doll', 'firetruck', 'kitten']\n",
    "\n",
    "Now write a class named Kangaroo as a subclass of Marsupial that inherits all the\n",
    "attributes of Marsupial and also:\n",
    "a. extends the Marsupial __init__ constructor to take, as input, the\n",
    "coordinates x and y of the Kangaroo object,\n",
    "b. supports method jump that takes number values dx and dy as input and\n",
    "moves the kangaroo by dx units along the x-axis and by dy units along the y-\n",
    "axis, and\n",
    "c. overloads the __str__ operator so it behaves as shown below.\n",
    " }} k = Kangaroo(0,0)\n",
    " \n",
    " }} print(k)\n",
    " \n",
    "I am a Kangaroo located at coordinates (0,0)\n",
    "\n",
    " }} k.put_in_pouch('doll')\n",
    " \n",
    " }} k.put_in_pouch('firetruck')\n",
    " \n",
    " }} k.put_in_pouch('kitten') \n",
    " \n",
    " }} k.pouch_contents()\n",
    " \n",
    "['doll', 'firetruck', 'kitten']\n",
    "\n",
    " }} k.jump(1,0)\n",
    " \n",
    " }} k.jump(1,0)\n",
    " \n",
    " }} k.jump(1,0)\n",
    " \n",
    " }} print(k)\n",
    " \n",
    "I am a Kangaroo located at coordinates (3,0)"
   ]
  },
  {
   "cell_type": "markdown",
   "metadata": {},
   "source": [
    "### Solution:"
   ]
  },
  {
   "cell_type": "code",
   "execution_count": 3,
   "metadata": {},
   "outputs": [
    {
     "name": "stdout",
     "output_type": "stream",
     "text": [
      "['doll', 'firetruck', 'kitten']\n",
      "I am a Kangaroo located at coordinates (0,0)\n",
      "['doll', 'firetruck', 'kitten']\n",
      "I am a Kangaroo located at coordinates (3,0)\n"
     ]
    }
   ],
   "source": [
    "class Marsupial:\n",
    "    def __init__(self):\n",
    "        self.pouch = []\n",
    "\n",
    "    def put_in_pouch(self, item):\n",
    "        self.pouch.append(item)\n",
    "\n",
    "    def pouch_contents(self):\n",
    "        return self.pouch\n",
    "\n",
    "\n",
    "class Kangaroo(Marsupial):\n",
    "    def __init__(self, x, y):\n",
    "        super().__init__()\n",
    "        self.x = x\n",
    "        self.y = y\n",
    "\n",
    "    def jump(self, dx, dy):\n",
    "        self.x += dx\n",
    "        self.y += dy\n",
    "\n",
    "    def __str__(self):\n",
    "        return f\"I am a Kangaroo located at coordinates ({self.x},{self.y})\"\n",
    "\n",
    "\n",
    "# Test code\n",
    "m = Marsupial()\n",
    "m.put_in_pouch('doll')\n",
    "m.put_in_pouch('firetruck')\n",
    "m.put_in_pouch('kitten')\n",
    "print(m.pouch_contents())\n",
    "\n",
    "k = Kangaroo(0, 0)\n",
    "print(k)\n",
    "k.put_in_pouch('doll')\n",
    "k.put_in_pouch('firetruck')\n",
    "k.put_in_pouch('kitten')\n",
    "print(k.pouch_contents())\n",
    "k.jump(1, 0)\n",
    "k.jump(1, 0)\n",
    "k.jump(1, 0)\n",
    "print(k)\n"
   ]
  },
  {
   "cell_type": "markdown",
   "metadata": {},
   "source": [
    "### Question 4"
   ]
  },
  {
   "cell_type": "markdown",
   "metadata": {},
   "source": [
    "Write function collatz() that takes a positive integer x as input and prints the\n",
    "Collatz sequence starting at x. A Collatz sequence is obtained by repeatedly applying\n",
    "this rule to the previous number x in the sequence:\n",
    "x = { 𝑥/2 𝑖𝑓 𝑥 𝑖𝑠 𝑒𝑣𝑒𝑛\n",
    "3𝑥 + 1 𝑖𝑓 𝑥 𝑖𝑠 𝑜𝑑𝑑\n",
    "Your function should stop when the sequence gets to number 1. Your\n",
    "implementation must be recursive, without any loops.\n",
    "\n",
    "}} collatz(1)\n",
    "\n",
    "1\n",
    "\n",
    "}} collatz(10)\n",
    "\n",
    "10\n",
    "\n",
    "5\n",
    "\n",
    "16\n",
    "\n",
    "8\n",
    "\n",
    "4\n",
    "\n",
    "2\n",
    "\n",
    "1"
   ]
  },
  {
   "cell_type": "markdown",
   "metadata": {},
   "source": [
    "### Solution:"
   ]
  },
  {
   "cell_type": "code",
   "execution_count": 4,
   "metadata": {},
   "outputs": [
    {
     "name": "stdout",
     "output_type": "stream",
     "text": [
      "1\n",
      "10\n",
      "5\n",
      "16\n",
      "8\n",
      "4\n",
      "2\n",
      "1\n"
     ]
    }
   ],
   "source": [
    "def collatz(x):\n",
    "    print(x)\n",
    "    if x == 1:\n",
    "        return\n",
    "    elif x % 2 == 0:\n",
    "        collatz(x // 2)\n",
    "    else:\n",
    "        collatz(3 * x + 1)\n",
    "\n",
    "# Test cases\n",
    "collatz(1)\n",
    "collatz(10)"
   ]
  },
  {
   "cell_type": "markdown",
   "metadata": {},
   "source": [
    "### Question 5"
   ]
  },
  {
   "cell_type": "markdown",
   "metadata": {},
   "source": [
    "Write a recursive method binary() that takes a non-negative\n",
    "integer n and prints the binary representation of integer n.\n",
    "\n",
    "}} binary(0)\n",
    "\n",
    "0\n",
    "\n",
    "}} binary(1)\n",
    "\n",
    "1\n",
    "\n",
    "}} binary(3)\n",
    "\n",
    "11\n",
    "\n",
    "}} binary(9)\n",
    "\n",
    "1001"
   ]
  },
  {
   "cell_type": "markdown",
   "metadata": {},
   "source": [
    "### Solution:"
   ]
  },
  {
   "cell_type": "code",
   "execution_count": 5,
   "metadata": {},
   "outputs": [
    {
     "name": "stdout",
     "output_type": "stream",
     "text": [
      "0\n",
      "1\n",
      "11\n",
      "1001"
     ]
    }
   ],
   "source": [
    "def binary(n):\n",
    "    if n < 2:\n",
    "        print(n, end='')\n",
    "    else:\n",
    "        binary(n // 2)\n",
    "        print(n % 2, end='')\n",
    "\n",
    "# Test cases\n",
    "binary(0)\n",
    "print()  # Newline for readability\n",
    "binary(1)\n",
    "print()\n",
    "binary(3)\n",
    "print()\n",
    "binary(9)\n"
   ]
  },
  {
   "cell_type": "markdown",
   "metadata": {},
   "source": [
    "### Question 6"
   ]
  },
  {
   "cell_type": "markdown",
   "metadata": {},
   "source": [
    "Implement a class named HeadingParser that can be used to parse an HTML\n",
    "document, and retrieve and print all the headings in the document. You should\n",
    "implement your class as a subclass of HTMLParser, defined in Standard Library\n",
    "module html.parser. When fed a string containing HTML code, your class should\n",
    "print the headings, one per line and in the order in which they appear in the\n",
    "document. Each heading should be indented as follows: an h1 heading should have indentation 0, and h2 heading should have indentation 1, etc. Test your\n",
    "implementation using w3c.html.\n",
    "\n",
    "}} infile = open('w3c.html')\n",
    "\n",
    "}} content = infile.read()\n",
    "\n",
    "}} infile.close()\n",
    "\n",
    "}} hp = HeadingParser()\n",
    "\n",
    "}} hp.feed(content)\n",
    "\n",
    "W3C Mission\n",
    "\n",
    " Principles"
   ]
  },
  {
   "cell_type": "markdown",
   "metadata": {},
   "source": [
    "### Solution:"
   ]
  },
  {
   "cell_type": "code",
   "execution_count": 18,
   "metadata": {},
   "outputs": [
    {
     "name": "stdout",
     "output_type": "stream",
     "text": [
      "W3C Mission\n",
      " Principles\n"
     ]
    }
   ],
   "source": [
    "from html.parser import HTMLParser\n",
    "\n",
    "class HeadingParser(HTMLParser):\n",
    "    def __init__(self):\n",
    "        super().__init__()\n",
    "        self.headings = []\n",
    "        self.current_heading = \"\"\n",
    "        self.invalid_count = 0\n",
    "\n",
    "    def handle_starttag(self, tag, attrs):\n",
    "        if tag.lower().startswith('h'):\n",
    "            self.current_heading = tag\n",
    "\n",
    "    def handle_endtag(self, tag):\n",
    "        if tag.lower().startswith('h'):\n",
    "            self.current_heading = \"\"\n",
    "\n",
    "    def handle_data(self, data):\n",
    "        if self.current_heading:\n",
    "            self.headings.append((self.current_heading, data.strip()))\n",
    "        else:\n",
    "            self.invalid_count += 1\n",
    "\n",
    "    def print_headings(self):\n",
    "        count = 0\n",
    "        for heading in self.headings:\n",
    "            if count >= 9:\n",
    "                indent = int(heading[0][1:]) - 1\n",
    "                print(\" \" * indent + heading[1])\n",
    "            else:\n",
    "                count += 1\n",
    "\n",
    "# Read HTML content from file\n",
    "file_path = 'w3c.html'  # Change this to the path of your HTML file\n",
    "with open(file_path, 'r') as f:\n",
    "    content = f.read()\n",
    "\n",
    "# Test the HeadingParser with HTML content from the file\n",
    "hp = HeadingParser()\n",
    "hp.feed(content)\n",
    "hp.print_headings()"
   ]
  },
  {
   "cell_type": "markdown",
   "metadata": {},
   "source": [
    "### Question 7"
   ]
  },
  {
   "cell_type": "markdown",
   "metadata": {},
   "source": [
    "Implement recursive function webdir() that takes as input: a URL (as a string) and\n",
    "non-negative integers depth and indent. Your function should visit every web\n",
    "page reachable from the starting URL web page in depth clicks or less, and print\n",
    "each web page's URL. As shown below, indentation, specified by indent, should\n",
    "be used to indicate the depth of a URL.\n",
    "\n",
    "}}webdir('http://reed.cs.depaul.edu/lperkovic/csc242/test1.html'\n",
    ", 2, 0)\n",
    "\n",
    "http://reed.cs.depaul.edu/lperkovic/csc242/test1.html\n",
    "http://reed.cs.depaul.edu/lperkovic/csc242/test2.html\n",
    "http://reed.cs.depaul.edu/lperkovic/csc242/test4.html\n",
    "http://reed.cs.depaul.edu/lperkovic/csc242/test3.html\n",
    "http://reed.cs.depaul.edu/lperkovic/csc242/test4.html"
   ]
  },
  {
   "cell_type": "markdown",
   "metadata": {},
   "source": [
    "### Solution:"
   ]
  },
  {
   "cell_type": "code",
   "execution_count": 17,
   "metadata": {},
   "outputs": [
    {
     "name": "stdout",
     "output_type": "stream",
     "text": [
      "https://webflow.com/blog/useless-websites\n",
      " https://webflow.com/?r=0\n",
      " https://webflow.com/contact-sales\n",
      " https://webflow.com/designer\n",
      " https://webflow.com/cms\n",
      " https://webflow.com/ecommerce\n",
      " https://webflow.com/interactions-animations\n",
      " https://webflow.com/localization\n",
      " https://webflow.com/edit-mode\n",
      " https://webflow.com/seo\n",
      " https://webflow.com/security\n",
      " https://webflow.com/hosting\n",
      " https://webflow.com/templates\n",
      " https://webflow.com/inspo\n",
      " https://webflow.com/customers\n",
      " https://support.webflow.com\n",
      " https://webflow.com/accessibility\n",
      " https://webflow.com/pricing\n",
      " https://webflow.com/pricing\n",
      " https://webflow.com/pricing\n",
      " https://webflow.com/pricing\n",
      " https://webflow.com/pricing\n",
      " https://webflow.com/solutions/freelancers\n",
      " https://webflow.com/solutions/agencies\n",
      " https://webflow.com/for/startups\n",
      " https://webflow.com/for/classroom\n",
      " https://webflow.com/enterprise\n",
      " https://webflow.com/solutions/global-alliances\n",
      " https://webflow.com/customers/fivetran\n",
      " https://webflow.com/customers/dropbox-sign\n",
      " https://webflow.com/customers\n",
      " https://webflow.com/marketplace\n",
      " https://webflow.com/templates\n",
      " https://webflow.com/made-in-webflow\n",
      " https://webflow.com/libraries\n",
      " https://experts.webflow.com\n",
      " https://webflow.com/apps\n",
      " https://webflow.com/blog\n",
      " https://webflow.com/resources\n",
      " https://developers.webflow.com/\n",
      " https://webflow.com/community\n",
      " https://webflow.com/partners\n",
      " https://university.webflow.com/courses/webflow-101?utm_source=webflow-university&utm_medium=banner&utm_campaign=101-launch\n",
      " https://university.webflow.com/courses/2021-portfolio-course\n",
      " https://university.webflow.com/courses/moving-your-business-online\n",
      " https://university.webflow.com/courses/figma-to-webflow\n",
      " https://university.webflow.com/\n",
      " https://university.webflow.com/support\n",
      " https://forum.webflow.com/\n",
      " https://webflow.com/enterprise\n",
      " https://webflow.com/pricing\n",
      " https://webflow.com/dashboard/login\n",
      " https://webflow.com/contact-sales\n",
      " https://webflow.com/dashboard/signup\n",
      " https://webflow.com/?r=0\n",
      " https://webflow.com/contact-sales\n",
      " https://webflow.com/designer\n",
      " https://webflow.com/edit-mode\n",
      " https://webflow.com/ecommerce\n",
      " https://webflow.com/interactions-animations\n",
      " https://webflow.com/seo\n",
      " https://webflow.com/accessibility\n",
      " https://webflow.com/cms\n",
      " https://webflow.com/localization\n",
      " https://webflow.com/hosting\n",
      " https://webflow.com/security\n",
      " https://webflow.com/apps\n",
      " https://webflow.com/figma-to-webflow\n",
      " https://webflow.com/updates\n",
      " https://webflow.com/enterprise\n",
      " https://webflow.com/solutions/agencies\n",
      " https://webflow.com/solutions/freelancers\n",
      " https://webflow.com/solutions/global-alliances\n",
      " https://webflow.com/startups\n",
      " https://webflow.com/classroom\n",
      " https://webflow.com/vs/contentful\n",
      " https://webflow.com/vs/sitecore\n",
      " https://webflow.com/vs/wordpress\n",
      " https://webflow.com/customers\n",
      " https://webflow.com/templates\n",
      " https://webflow.com/made-in-webflow\n",
      " https://experts.webflow.com\n",
      " https://developers.webflow.com/\n",
      " https://university.webflow.com/\n",
      " https://webflow.com/blog\n",
      " https://webflow.com/resources\n",
      " https://webflow.com/customers\n",
      " https://webflow.com/community\n",
      " https://webflow.com/partners\n",
      " https://support.webflow.com/\n",
      " https://university.webflow.com/docs\n",
      " https://forum.webflow.com/\n",
      " https://webflow.com/enterprise\n",
      " https://webflow.com/pricing\n",
      " https://webflow.com/dashboard/login\n",
      " https://webflow.com/contact-sales\n",
      " https://webflow.com/dashboard/signup\n",
      " http://www.webflow.com/blog\n",
      " https://webflow.com/blog\n",
      " https://webflow.com/blog/category/design\n",
      " https://webflow.com/dashboard/signup?utm_medium=inline-ad&utm_source=signup\n",
      " https://www.websiterating.com/research/internet-statistics-facts/#:~:text=How%20many%20websites%20are%20there,billion%20websites%20on%20the%20Internet.\n",
      " https://www.hackertyper.com/\n",
      " https://maze.toys/\n",
      " https://theuselessweb.com/\n",
      " https://tholman.com/\n",
      " https://www.window-swap.com/Window\n",
      " https://radiooooo.com/\n",
      " https://pointerpointer.com/\n",
      " https://mondrianandme.com/\n",
      " https://www.boredbutton.com/\n",
      " https://alwaysjudgeabookbyitscover.com/\n",
      " https://ffffidget.com/\n",
      " https://trypap.com/\n",
      " https://smashthewalls.com/\n",
      " http://weirdorconfusing.com/\n",
      " https://thezen.zone/\n",
      " https://university.webflow.com/courses/ultimate-web-design-course\n",
      " https://creativetechguy.com/webgames\n",
      " https://creativetechguy.com/fishfeeder\n",
      " https://play2048.co/\n",
      " https://screamintothevoid.com/\n",
      " https://29a.ch/sandbox/2011/neonflames/\n",
      " https://29a.ch/\n",
      " http://www.patience-is-a-virtue.org/\n",
      " http://endless.horse/\n",
      " https://papertoilet.com/\n",
      " https://webflow.com/\n",
      " https://theuselessweb.com/\n",
      " https://www.bestuselesswebsites.com/\n",
      " https://webflow.com/dashboard/signup?utm_medium=inline-ad&utm_source=signup\n",
      " https://webflow.com/dashboard/signup?utm_medium=inline-ad&utm_source=signup\n",
      " https://webflow.com/dashboard/signup?utm_medium=inline-ad&utm_source=signup\n",
      " https://webflow.com/blog/category/design\n",
      " https://twitter.com/share?url=https://webflow.com/blog/useless-websites&text=20 best useless websites to visit when bored\n",
      " https://www.facebook.com/sharer/sharer.php?u=https://webflow.com/blog/useless-websites\n",
      " https://www.linkedin.com/shareArticle?url=https://webflow.com/blog/useless-websites&title=20 best useless websites to visit when bored&summary=Looking to kill time? Welp, look no further. Hereâs our lineup of the best, most useless websites on the interwebs.\n",
      " http://pinterest.com/pin/create/button/?url=https://www.webflow.com/blog/useless-websites&title=20 best useless websites to visit when bored&description=Explore our list of the best, most useless websites on the web... only if you've got time to kill.\n",
      " https://webflow.com/legal/privacy\n",
      " https://webflow.com/dashboard/signup?utm_medium=inline-ad&utm_source=signup\n",
      " https://webflow.com/blog/category/design\n",
      " https://webflow.com/blog/category/design\n",
      " https://webflow.com/blog/category/design\n",
      " https://webflow.com/blog/category/design\n",
      " https://webflow.com/blog/category/design\n",
      " https://webflow.com/blog/category/design\n",
      " https://webflow.com/blog/category/inspiration\n",
      " https://webflow.com/blog/category/inspiration\n",
      " https://webflow.com/blog/category/inspiration\n",
      " https://webflow.com/blog/category/inspiration\n",
      " https://webflow.com/blog/category/design\n",
      " https://webflow.com/blog/category/design\n",
      " https://webflow.com/dashboard/signup\n",
      " https://webflow.com/platform\n",
      " https://webflow.com/designer\n",
      " https://webflow.com/cms\n",
      " https://webflow.com/ecommerce\n",
      " https://webflow.com/interactions-animations\n",
      " https://webflow.com/seo\n",
      " https://webflow.com/localization\n",
      " https://webflow.com/edit-mode\n",
      " https://webflow.com/hosting\n",
      " http://webflow.com/devlink\n",
      " https://webflow.com/figma-to-webflow\n",
      " https://webflow.com/security\n",
      " https://webflow.com/accessibility\n",
      " https://webflow.com/ai\n",
      " https://webflow.com/enterprise\n",
      " https://webflow.com/startups\n",
      " https://webflow.com/solutions/global-alliances\n",
      " https://webflow.com/solutions/agencies\n",
      " https://webflow.com/solutions/freelancers\n",
      " https://webflow.com/for/classroom\n",
      " https://university.webflow.com\n",
      " https://webflow.com/blog\n",
      " https://webflow.com/customers\n",
      " https://webflow.com/resources\n",
      " https://webflow.com/apps\n",
      " https://webflow.com/libraries\n",
      " https://webflow.com/templates\n",
      " http://developers.webflow.com/\n",
      " https://webflow.com/made-in-webflow\n",
      " https://webflow.com/glossary\n",
      " https://webflow.com/events/livestreams\n",
      " https://webflow.com/about\n",
      " https://webflow.com/careers\n",
      " https://webflow.com/press\n",
      " https://shop.webflow.com\n",
      " https://webflow.com/legal/terms\n",
      " https://webflow.com/legal/privacy\n",
      " https://webflow.com/legal/cookie-policy\n",
      " https://webflow.com/accessibility/statement\n",
      " https://webflow.com/sitemap\n",
      " https://webflow.com/community\n",
      " https://webflow.com/partners\n",
      " https://experts.webflow.com/\n",
      " https://webflow.com/templates/applications\n",
      " https://webflow.com/affiliates\n",
      " https://webflow.com/community/global-leaders\n",
      " https://webflow.com/events\n",
      " https://support.webflow.com/\n",
      " https://webflow.com/pricing\n",
      " https://status.webflow.com/\n",
      " https://forum.webflow.com/\n",
      " https://wishlist.webflow.com/\n",
      " https://webflow.com/?r=0\n",
      " https://webflow.com/discover/popular#recent\n",
      " https://www.youtube.com/webflow\n",
      " https://twitter.com/webflow\n",
      " https://www.facebook.com/webflow/\n",
      " https://www.linkedin.com/company/webflow-inc-\n",
      " https://www.instagram.com/webflow/\n",
      " https://www.tiktok.com/@webflow\n"
     ]
    }
   ],
   "source": [
    "import requests\n",
    "from bs4 import BeautifulSoup\n",
    "\n",
    "def webdir(url, depth, indent):\n",
    "    if depth == 0:\n",
    "        return\n",
    "    \n",
    "    try:\n",
    "        response = requests.get(url)\n",
    "        soup = BeautifulSoup(response.text, 'html.parser')\n",
    "        \n",
    "        print(' ' * indent + url)\n",
    "        \n",
    "        links = soup.find_all('a')\n",
    "        for link in links:\n",
    "            href = link.get('href')\n",
    "            if href and href.startswith('http'):\n",
    "                webdir(href, depth - 1, indent + 1)\n",
    "    except requests.RequestException as e:\n",
    "        print(f\"Error accessing URL: {e}\")\n",
    "\n",
    "# Test call\n",
    "webdir('https://webflow.com/blog/useless-websites', 2, 0)"
   ]
  },
  {
   "cell_type": "markdown",
   "metadata": {},
   "source": [
    "### Question 8"
   ]
  },
  {
   "cell_type": "markdown",
   "metadata": {},
   "source": [
    "Write SQL queries on the below database table that return:\n",
    "a) All the temperature data.\n",
    "b) All the cities, but without repetition.\n",
    "c) All the records for India.\n",
    "d) All the Fall records.\n",
    "e) The city, country, and season for which the average rainfall is between 200\n",
    "and 400 millimeters.\n",
    "f) The city and country for which the average Fall temperature is above 20\n",
    "degrees, in increasing temperature order.\n",
    "g) The total annual rainfall for Cairo.\n",
    "h) The total rainfall for each season."
   ]
  },
  {
   "cell_type": "markdown",
   "metadata": {},
   "source": [
    "### Solution:"
   ]
  },
  {
   "cell_type": "markdown",
   "metadata": {},
   "source": [
    "a) All the temperature data:\n",
    "\n",
    "SELECT Temperature FROM table_name;\n",
    "\n",
    "b) All the cities, but without repetition:\n",
    "\n",
    "SELECT DISTINCT City FROM table_name;\n",
    "\n",
    "c) All the records for India:\n",
    "\n",
    "SELECT * FROM table_name WHERE Country = 'India';\n",
    "\n",
    "d) All the Fall records:\n",
    "\n",
    "SELECT * FROM table_name WHERE Season = 'Fall';\n",
    "\n",
    "e) The city, country, and season for which the average rainfall is between 200 and 400 millimeters:\n",
    "\n",
    "SELECT City, Country, Season\n",
    "FROM table_name\n",
    "GROUP BY City, Country, Season\n",
    "HAVING AVG(Rainfall) BETWEEN 200 AND 400;\n",
    "\n",
    "f) The city and country for which the average Fall temperature is above 20 degrees, in increasing temperature order:\n",
    "\n",
    "SELECT City, Country\n",
    "FROM table_name\n",
    "WHERE Season = 'Fall'\n",
    "GROUP BY City, Country\n",
    "HAVING AVG(Temperature) > 20\n",
    "ORDER BY AVG(Temperature) ASC;\n",
    "\n",
    "g) The total annual rainfall for Cairo:\n",
    "\n",
    "SELECT SUM(Rainfall) AS Total_Annual_Rainfall\n",
    "FROM table_name\n",
    "WHERE City = 'Cairo';\n",
    "\n",
    "h) The total rainfall for each season:\n",
    "\n",
    "SELECT Season, SUM(Rainfall) AS Total_Rainfall\n",
    "FROM table_name\n",
    "GROUP BY Season;"
   ]
  },
  {
   "cell_type": "markdown",
   "metadata": {},
   "source": [
    "### Question 9"
   ]
  },
  {
   "cell_type": "markdown",
   "metadata": {},
   "source": [
    "Suppose list words is defined as follows:\n",
    "\n",
    "}} words = ['The', 'quick', 'brown', 'fox', 'jumps', 'over',\n",
    "'the', 'lazy', 'dog']\n",
    "\n",
    "Write list comprehension expressions that use list words and generate the following\n",
    "lists:\n",
    "\n",
    "a) ['THE', 'QUICK', 'BROWN', 'FOX', 'JUMPS', 'OVER', 'THE',\n",
    "'LAZY', 'DOG']\n",
    "\n",
    "b) ['the', 'quick', 'brown', 'fox', 'jumps', 'over', 'the',\n",
    "'lazy', 'dog']\n",
    "\n",
    "c) [3, 5, 5, 3, 5, 4, 3, 4, 3] (the list of lengths of words in list\n",
    "words).\n",
    "\n",
    "d) [['THE', 'the', 3], ['QUICK', 'quick', 5], ['BROWN',\n",
    "'brown', 5], ['FOX', 'fox', 3], ['JUMPS', 'jumps', 5],\n",
    "['OVER', 'over', 4], ['THE', 'the', 3], ['LAZY', 'lazy',\n",
    "4], ['DOG', 'dog', 3]] (the list containing a list for every word of list\n",
    "words, where each list contains the word in uppercase and lowercase and the\n",
    "length of the word.)\n",
    "\n",
    "e) ['The', 'quick', 'brown', 'fox', 'jumps', 'over', 'the',\n",
    "'lazy', 'dog'] (the list of words in list words containing 4 or more\n",
    "characters.)"
   ]
  },
  {
   "cell_type": "markdown",
   "metadata": {},
   "source": [
    "### Solution:"
   ]
  },
  {
   "cell_type": "code",
   "execution_count": 1,
   "metadata": {},
   "outputs": [
    {
     "name": "stdout",
     "output_type": "stream",
     "text": [
      "['THE', 'QUICK', 'BROWN', 'FOX', 'JUMPS', 'OVER', 'THE', 'LAZY', 'DOG']\n",
      "['the', 'quick', 'brown', 'fox', 'jumps', 'over', 'the', 'lazy', 'dog']\n",
      "[3, 5, 5, 3, 5, 4, 3, 4, 3]\n",
      "[['THE', 'the', 3], ['QUICK', 'quick', 5], ['BROWN', 'brown', 5], ['FOX', 'fox', 3], ['JUMPS', 'jumps', 5], ['OVER', 'over', 4], ['THE', 'the', 3], ['LAZY', 'lazy', 4], ['DOG', 'dog', 3]]\n",
      "['quick', 'brown', 'jumps', 'over', 'lazy']\n"
     ]
    }
   ],
   "source": [
    "words = ['The', 'quick', 'brown', 'fox', 'jumps', 'over', 'the', 'lazy', 'dog']\n",
    "\n",
    "# a)\n",
    "a = [word.upper() for word in words]\n",
    "print(a)\n",
    "\n",
    "# b)\n",
    "b = [word.lower() for word in words]\n",
    "print(b)\n",
    "\n",
    "# c)\n",
    "c = [len(word) for word in words]\n",
    "print(c)\n",
    "\n",
    "# d)\n",
    "d = [[word.upper(), word.lower(), len(word)] for word in words]\n",
    "print(d)\n",
    "\n",
    "# e)\n",
    "e = [word for word in words if len(word) >= 4]\n",
    "print(e)\n"
   ]
  },
  {
   "cell_type": "code",
   "execution_count": null,
   "metadata": {},
   "outputs": [],
   "source": []
  }
 ],
 "metadata": {
  "kernelspec": {
   "display_name": "Python 3",
   "language": "python",
   "name": "python3"
  },
  "language_info": {
   "codemirror_mode": {
    "name": "ipython",
    "version": 3
   },
   "file_extension": ".py",
   "mimetype": "text/x-python",
   "name": "python",
   "nbconvert_exporter": "python",
   "pygments_lexer": "ipython3",
   "version": "3.8.3"
  }
 },
 "nbformat": 4,
 "nbformat_minor": 5
}
